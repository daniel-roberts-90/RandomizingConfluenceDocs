{
 "cells": [
  {
   "cell_type": "code",
   "execution_count": null,
   "id": "7cbe2807",
   "metadata": {},
   "outputs": [],
   "source": [
    "from atlassian import Confluence\n",
    "import requests\n",
    "import random\n",
    "from bs4 import BeautifulSoup\n",
    "import base64"
   ]
  },
  {
   "cell_type": "code",
   "execution_count": null,
   "id": "f58f6fb8",
   "metadata": {},
   "outputs": [],
   "source": [
    "user = 'myemail@gmail.com'  # Replace with your Confluence username\n",
    "apikey = 'your_API_Token'  # Replace with your actual API key\n",
    "server = 'url to your space' #Replace with your URL to your Confluence space"
   ]
  },
  {
   "cell_type": "code",
   "execution_count": null,
   "id": "e85c8620",
   "metadata": {},
   "outputs": [],
   "source": [
    "confluence = Confluence(\n",
    "    url=server,\n",
    "    username=user,\n",
    "    password=apikey)"
   ]
  },
  {
   "cell_type": "code",
   "execution_count": null,
   "id": "ecd33115",
   "metadata": {},
   "outputs": [],
   "source": [
    "def get_pages_from_space(space_key):\n",
    "    limit = 100\n",
    "    pages = []\n",
    "    start = 0\n",
    "\n",
    "    while True:\n",
    "        response = confluence.get_all_pages_from_space(\n",
    "            space=space_key, start=start, limit=limit, expand='body.storage')\n",
    "        if not response:\n",
    "            break\n",
    "        pages.extend(response)\n",
    "        start += limit\n",
    "\n",
    "    return pages"
   ]
  },
  {
   "cell_type": "code",
   "execution_count": null,
   "id": "6e762e8c",
   "metadata": {},
   "outputs": [],
   "source": [
    "def page_contains_images(page):\n",
    "    content = page['body']['storage']['value']\n",
    "    soup = BeautifulSoup(content, 'html.parser')\n",
    "    return bool(soup.find_all('ac:image'))"
   ]
  },
  {
   "cell_type": "code",
   "execution_count": null,
   "id": "bed89c1d",
   "metadata": {},
   "outputs": [],
   "source": [
    "def page_contains_tables(page):\n",
    "    content = page['body']['storage']['value']\n",
    "    soup = BeautifulSoup(content, 'html.parser')\n",
    "    return bool(soup.find_all('table'))"
   ]
  },
  {
   "cell_type": "code",
   "execution_count": null,
   "id": "97008826",
   "metadata": {},
   "outputs": [],
   "source": [
    "space_key = 'space key' #Replace with your space key\n",
    "try:\n",
    "    pages = get_pages_from_space(space_key)\n",
    "except ApiPermissionError as e:\n",
    "    print(\"Permission error:\", e)\n",
    "    print(\"Please check the user's permissions and the space key.\")\n",
    "    raise"
   ]
  },
  {
   "cell_type": "code",
   "execution_count": null,
   "id": "a9f17fe1",
   "metadata": {},
   "outputs": [],
   "source": [
    "pages_with_images = [page for page in pages if page_contains_images(page)]\n",
    "pages_with_tables = [page for page in pages if page_contains_tables(page)]\n",
    "pages_without_images_or_tables = [page for page in pages if not page_contains_images(page) and not page_contains_tables(page)]"
   ]
  },
  {
   "cell_type": "code",
   "execution_count": null,
   "id": "59f7394a",
   "metadata": {},
   "outputs": [],
   "source": [
    "print(f\"Total pages: {len(pages)}\")\n",
    "print(f\"Pages with images: {len(pages_with_images)}\")\n",
    "print(f\"Pages with tables: {len(pages_with_tables)}\")\n",
    "print(f\"Pages without images or tables: {len(pages_without_images_or_tables)}\")"
   ]
  },
  {
   "cell_type": "code",
   "execution_count": null,
   "id": "992cc82b",
   "metadata": {},
   "outputs": [],
   "source": [
    "if len(pages_with_images) < 2 or len(pages_with_tables) < 2 or len(pages_without_images_or_tables) < 2:\n",
    "    raise ValueError(\"Not enough pages to meet the selection criteria.\")"
   ]
  },
  {
   "cell_type": "code",
   "execution_count": null,
   "id": "413f4634",
   "metadata": {},
   "outputs": [],
   "source": [
    "selected_with_images = random.sample(pages_with_images, 1)\n",
    "selected_with_tables = random.sample(pages_with_tables, 1)\n",
    "selected_without_images_or_tables = random.sample(pages_without_images_or_tables, 2)"
   ]
  },
  {
   "cell_type": "code",
   "execution_count": null,
   "id": "28fceb6b",
   "metadata": {},
   "outputs": [],
   "source": [
    "selected_pages = selected_with_images + selected_with_tables + selected_without_images_or_tables"
   ]
  },
  {
   "cell_type": "code",
   "execution_count": null,
   "id": "1cc9338e",
   "metadata": {},
   "outputs": [],
   "source": [
    "random.shuffle(selected_pages)"
   ]
  },
  {
   "cell_type": "code",
   "execution_count": null,
   "id": "ca03a978",
   "metadata": {},
   "outputs": [],
   "source": [
    "print(\"Selected Pages:\")\n",
    "for page in selected_pages:\n",
    "    print(page['title'])"
   ]
  }
 ],
 "metadata": {
  "kernelspec": {
   "display_name": "Python 3 (ipykernel)",
   "language": "python",
   "name": "python3"
  },
  "language_info": {
   "codemirror_mode": {
    "name": "ipython",
    "version": 3
   },
   "file_extension": ".py",
   "mimetype": "text/x-python",
   "name": "python",
   "nbconvert_exporter": "python",
   "pygments_lexer": "ipython3",
   "version": "3.11.4"
  }
 },
 "nbformat": 4,
 "nbformat_minor": 5
}
